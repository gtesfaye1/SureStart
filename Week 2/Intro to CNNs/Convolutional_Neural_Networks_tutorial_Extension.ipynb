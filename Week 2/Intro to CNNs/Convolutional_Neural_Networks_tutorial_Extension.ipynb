{
  "nbformat": 4,
  "nbformat_minor": 0,
  "metadata": {
    "kernelspec": {
      "language": "python",
      "display_name": "Python 3",
      "name": "python3"
    },
    "language_info": {
      "pygments_lexer": "ipython3",
      "nbconvert_exporter": "python",
      "version": "3.6.4",
      "file_extension": ".py",
      "codemirror_mode": {
        "name": "ipython",
        "version": 3
      },
      "name": "python",
      "mimetype": "text/x-python"
    },
    "colab": {
      "name": "Convolutional Neural Networks tutorial Extension.ipynb",
      "provenance": [],
      "collapsed_sections": [],
      "toc_visible": true
    },
    "accelerator": "GPU"
  },
  "cells": [
    {
      "cell_type": "markdown",
      "metadata": {
        "_uuid": "8c80a83f7fb1ab87aabbdad97d11627fb0380e8f",
        "id": "MNy6GFwF7_Re"
      },
      "source": [
        "# Convolutional Neural Networks (CNN)\n",
        "<font color='blue'>\n",
        "<br>Content: \n",
        "* [Loading the Data Set](#1)\n",
        "* [Normalization, Reshape and Label Encoding ](#2)\n",
        "* [Train Test Split](#3)\n",
        "* [Convolutional Neural Network](#4)\n",
        "    * [What is Convolution Operation?](#5)\n",
        "    * [Same Padding](#6)\n",
        "    * [Max Pooling](#7)\n",
        "    * [Flattening](#8)\n",
        "    * [Full Connection](#9)\n",
        "* [Implementing with Keras](#10)\n",
        "    * [Create Model](#11)\n",
        "    * [Define Optimizer](#12)\n",
        "    * [Compile Model](#13)\n",
        "    * [Epochs and Batch Size](#14)\n",
        "    * [Data Augmentation](#15)\n",
        "    * [Fit the Model](#16)\n",
        "    * [Evaluate the Model](#17)\n",
        "* [Deep Learning Tutorial for Beginners](https://www.kaggle.com/kanncaa1/deep-learning-tutorial-for-beginners)\n",
        "* [Artificial Neural Network with Pytorch](https://www.kaggle.com/kanncaa1/pytorch-tutorial-for-deep-learning-lovers)\n",
        "* [Convolutional Neural Network with Pytorch](https://www.kaggle.com/kanncaa1/pytorch-tutorial-for-deep-learning-lovers)\n",
        "* [Recurrent Neural Network with Pytorch](https://www.kaggle.com/kanncaa1/recurrent-neural-network-with-pytorch)\n",
        "* [Conclusion](#18)\n"
      ]
    },
    {
      "cell_type": "code",
      "metadata": {
        "_uuid": "8f2839f25d086af736a60e9eeb907d3b93b6e0e5",
        "_cell_guid": "b1076dfc-b9ad-4769-8c92-a6c4dae69d19",
        "trusted": true,
        "id": "nzAdzeGf7_Rf"
      },
      "source": [
        "# This Python 3 environment comes with many helpful analytics libraries installed\n",
        "# It is defined by the kaggle/python docker image: https://github.com/kaggle/docker-python\n",
        "# For example, here's several helpful packages to load in \n",
        "\n",
        "import numpy as np # linear algebra\n",
        "import pandas as pd # data processing, CSV file I/O (e.g. pd.read_csv)\n",
        "import seaborn as sns\n",
        "import matplotlib.pyplot as plt\n",
        "# import warnings\n",
        "import warnings\n",
        "# filter warnings\n",
        "warnings.filterwarnings('ignore')"
      ],
      "execution_count": 1,
      "outputs": []
    },
    {
      "cell_type": "code",
      "metadata": {
        "colab": {
          "base_uri": "https://localhost:8080/"
        },
        "id": "SDMVPiK9Xl3M",
        "outputId": "0ff4c679-e51e-404e-8506-ada5ab0b72af"
      },
      "source": [
        "#Loading MNIST Data from Tensorflow.Keras\n",
        "from tensorflow.keras.datasets import mnist\n",
        "from sklearn.model_selection import train_test_split\n",
        "\n",
        "(x_train, y_train), (x_test, y_test) = mnist.load_data()"
      ],
      "execution_count": 2,
      "outputs": [
        {
          "output_type": "stream",
          "text": [
            "Downloading data from https://storage.googleapis.com/tensorflow/tf-keras-datasets/mnist.npz\n",
            "11493376/11490434 [==============================] - 0s 0us/step\n"
          ],
          "name": "stdout"
        }
      ]
    },
    {
      "cell_type": "code",
      "metadata": {
        "colab": {
          "base_uri": "https://localhost:8080/"
        },
        "id": "w6tdYKoEXl5l",
        "outputId": "010906c0-14be-4216-b30c-e9a5f688c50f"
      },
      "source": [
        "#Use Grayscale Normalization-reduces effect of illumination differences \n",
        "x_train = x_train / 255.0\n",
        "x_test = x_test / 255.0\n",
        "print(\"x_train normalized shape: \", x_train.shape)\n",
        "print(\"x_test normalized shape: \", x_test.shape)"
      ],
      "execution_count": 3,
      "outputs": [
        {
          "output_type": "stream",
          "text": [
            "x_train normalized shape:  (60000, 28, 28)\n",
            "x_test normalized shape:  (10000, 28, 28)\n"
          ],
          "name": "stdout"
        }
      ]
    },
    {
      "cell_type": "code",
      "metadata": {
        "colab": {
          "base_uri": "https://localhost:8080/"
        },
        "id": "Kas3mlIWXl8H",
        "outputId": "4d8152fd-d649-4422-f3d8-6b0c12da3f97"
      },
      "source": [
        "# Reshaping \n",
        "x_train = x_train.reshape(-1,28,28,1)\n",
        "x_test = x_test.reshape(-1,28,28,1)\n",
        "print(\"x_train reshaped: \", x_train.shape)\n",
        "print(\"x_test reshaped: \", x_test.shape)\n"
      ],
      "execution_count": 4,
      "outputs": [
        {
          "output_type": "stream",
          "text": [
            "x_train reshaped:  (60000, 28, 28, 1)\n",
            "x_test reshaped:  (10000, 28, 28, 1)\n"
          ],
          "name": "stdout"
        }
      ]
    },
    {
      "cell_type": "code",
      "metadata": {
        "colab": {
          "base_uri": "https://localhost:8080/"
        },
        "id": "-ZMAjettXl-S",
        "outputId": "46353219-5706-4954-d281-a1b8118262e4"
      },
      "source": [
        "from keras.utils.np_utils import to_categorical # convert to one-hot-encoding\n",
        "y_train = to_categorical(y_train, num_classes = 10)\n",
        "y_train.shape"
      ],
      "execution_count": 5,
      "outputs": [
        {
          "output_type": "execute_result",
          "data": {
            "text/plain": [
              "(60000, 10)"
            ]
          },
          "metadata": {
            "tags": []
          },
          "execution_count": 5
        }
      ]
    },
    {
      "cell_type": "code",
      "metadata": {
        "colab": {
          "base_uri": "https://localhost:8080/"
        },
        "id": "XmsZhJB5XmAi",
        "outputId": "fce36341-e9bc-4b3e-a23a-d14e0368db83"
      },
      "source": [
        "#Spliting data into training and test sets. 85% training, 15% testing\n",
        "from sklearn.model_selection import train_test_split\n",
        "x_train, x_test, y_train, y_test = train_test_split(x_train, y_train, test_size = 0.15, random_state=2)\n",
        "print(\"x_train shape\",x_train.shape)\n",
        "print(\"x_test shape\",x_test.shape)\n",
        "print(\"y_train shape\",y_train.shape)\n",
        "print(\"y_test shape\",y_test.shape)"
      ],
      "execution_count": 6,
      "outputs": [
        {
          "output_type": "stream",
          "text": [
            "x_train shape (51000, 28, 28, 1)\n",
            "x_test shape (9000, 28, 28, 1)\n",
            "y_train shape (51000, 10)\n",
            "y_test shape (9000, 10)\n"
          ],
          "name": "stdout"
        }
      ]
    },
    {
      "cell_type": "code",
      "metadata": {
        "colab": {
          "base_uri": "https://localhost:8080/",
          "height": 265
        },
        "id": "8otAaYojXmDC",
        "outputId": "ef9f9636-ddf8-4629-fd6c-0db8c26ab3ff"
      },
      "source": [
        "#Examples\n",
        "plt.imshow(x_train[10][:,:,0],cmap='gray')\n",
        "plt.show()"
      ],
      "execution_count": 7,
      "outputs": [
        {
          "output_type": "display_data",
          "data": {
            "image/png": "[encoded data removed]",
            "text/plain": [
              "<Figure size 432x288 with 1 Axes>"
            ]
          },
          "metadata": {
            "tags": [],
            "needs_background": "light"
          }
        }
      ]
    },
    {
      "cell_type": "markdown",
      "metadata": {
        "id": "vtGf-g_QbDz2"
      },
      "source": [
        "## Creating the CNN\n",
        "\n",
        "\n",
        "\n"
      ]
    },
    {
      "cell_type": "code",
      "metadata": {
        "colab": {
          "base_uri": "https://localhost:8080/"
        },
        "id": "qhgT9Oc-XmHr",
        "outputId": "8072bad7-212f-46da-e61f-7c40a27ae5ce"
      },
      "source": [
        "from sklearn.metrics import confusion_matrix\n",
        "import itertools\n",
        "from keras.utils.np_utils import to_categorical # convert to one-hot-encoding\n",
        "from keras.models import Sequential\n",
        "from keras.layers import Dense, Dropout, Flatten, Conv2D, MaxPool2D\n",
        "from keras.optimizers import RMSprop,Adam\n",
        "from keras.preprocessing.image import ImageDataGenerator\n",
        "from keras.callbacks import ReduceLROnPlateau\n",
        "\n",
        "model = Sequential()\n",
        "#\n",
        "model.add(Conv2D(filters = 8, kernel_size = (5,5),padding = 'Same', \n",
        "                 activation ='relu', input_shape = (28,28,1)))\n",
        "model.add(MaxPool2D(pool_size=(2,2)))\n",
        "model.add(Dropout(0.25))\n",
        "\n",
        "#\n",
        "model.add(Conv2D(filters = 16, kernel_size = (3,3),padding = 'Same', \n",
        "                 activation ='relu'))\n",
        "model.add(MaxPool2D(pool_size=(2,2), strides=(2,2)))\n",
        "model.add(Dropout(0.25))\n",
        "\n",
        "# fully connected\n",
        "model.add(Flatten())\n",
        "model.add(Dense(256, activation = \"relu\"))\n",
        "model.add(Dropout(0.5))\n",
        "model.add(Dense(10, activation = \"softmax\"))\n",
        "model.summary()"
      ],
      "execution_count": 8,
      "outputs": [
        {
          "output_type": "stream",
          "text": [
            "Model: \"sequential\"\n",
            "_________________________________________________________________\n",
            "Layer (type)                 Output Shape              Param #   \n",
            "=================================================================\n",
            "conv2d (Conv2D)              (None, 28, 28, 8)         208       \n",
            "_________________________________________________________________\n",
            "max_pooling2d (MaxPooling2D) (None, 14, 14, 8)         0         \n",
            "_________________________________________________________________\n",
            "dropout (Dropout)            (None, 14, 14, 8)         0         \n",
            "_________________________________________________________________\n",
            "conv2d_1 (Conv2D)            (None, 14, 14, 16)        1168      \n",
            "_________________________________________________________________\n",
            "max_pooling2d_1 (MaxPooling2 (None, 7, 7, 16)          0         \n",
            "_________________________________________________________________\n",
            "dropout_1 (Dropout)          (None, 7, 7, 16)          0         \n",
            "_________________________________________________________________\n",
            "flatten (Flatten)            (None, 784)               0         \n",
            "_________________________________________________________________\n",
            "dense (Dense)                (None, 256)               200960    \n",
            "_________________________________________________________________\n",
            "dropout_2 (Dropout)          (None, 256)               0         \n",
            "_________________________________________________________________\n",
            "dense_1 (Dense)              (None, 10)                2570      \n",
            "=================================================================\n",
            "Total params: 204,906\n",
            "Trainable params: 204,906\n",
            "Non-trainable params: 0\n",
            "_________________________________________________________________\n"
          ],
          "name": "stdout"
        }
      ]
    },
    {
      "cell_type": "code",
      "metadata": {
        "id": "FxlPMv_0XmKx"
      },
      "source": [
        "#Optimizer\n",
        "optimizer = Adam(lr=0.001, beta_1=0.9, beta_2=0.999)"
      ],
      "execution_count": 9,
      "outputs": []
    },
    {
      "cell_type": "code",
      "metadata": {
        "id": "vT76rmfDXmT3"
      },
      "source": [
        "model.compile(optimizer = optimizer , loss = \"categorical_crossentropy\", metrics=[\"accuracy\"])"
      ],
      "execution_count": 10,
      "outputs": []
    },
    {
      "cell_type": "code",
      "metadata": {
        "id": "JcTiJGCOXmV5"
      },
      "source": [
        "# data augmentation\n",
        "datagen = ImageDataGenerator(\n",
        "        featurewise_center=False,  # set input mean to 0 over the dataset\n",
        "        samplewise_center=False,  # set each sample mean to 0\n",
        "        featurewise_std_normalization=False,  # divide inputs by std of the dataset\n",
        "        samplewise_std_normalization=False,  # divide each input by its std\n",
        "        zca_whitening=False,  # dimesion reduction\n",
        "        rotation_range=5,  # randomly rotate images in the range 5 degrees\n",
        "        zoom_range = 0.1, # Randomly zoom image 10%\n",
        "        width_shift_range=0.1,  # randomly shift images horizontally 10%\n",
        "        height_shift_range=0.1,  # randomly shift images vertically 10%\n",
        "        horizontal_flip=False,  # randomly flip images\n",
        "        vertical_flip=False)  # randomly flip images\n",
        "\n",
        "datagen.fit(x_train)"
      ],
      "execution_count": 11,
      "outputs": []
    },
    {
      "cell_type": "code",
      "metadata": {
        "colab": {
          "base_uri": "https://localhost:8080/"
        },
        "id": "jwaAkU_inXKc",
        "outputId": "a9cb63c5-b922-4b9e-9e3c-bebbc49ebcd2"
      },
      "source": [
        "# Fit the model\n",
        "cnn_history = model.fit_generator(datagen.flow(x_train, y_train, batch_size= 250),\n",
        "                              epochs = 10, validation_data = (x_test, y_test), \n",
        "                              steps_per_epoch=x_train.shape[0] // 250)"
      ],
      "execution_count": 12,
      "outputs": [
        {
          "output_type": "stream",
          "text": [
            "Epoch 1/10\n",
            "204/204 [==============================] - 18s 57ms/step - loss: 1.4203 - accuracy: 0.5093 - val_loss: 0.1753 - val_accuracy: 0.9527\n",
            "Epoch 2/10\n",
            "204/204 [==============================] - 11s 55ms/step - loss: 0.4083 - accuracy: 0.8708 - val_loss: 0.1111 - val_accuracy: 0.9674\n",
            "Epoch 3/10\n",
            "204/204 [==============================] - 11s 55ms/step - loss: 0.2916 - accuracy: 0.9110 - val_loss: 0.0868 - val_accuracy: 0.9758\n",
            "Epoch 4/10\n",
            "204/204 [==============================] - 11s 55ms/step - loss: 0.2335 - accuracy: 0.9269 - val_loss: 0.0730 - val_accuracy: 0.9780\n",
            "Epoch 5/10\n",
            "204/204 [==============================] - 11s 56ms/step - loss: 0.2042 - accuracy: 0.9369 - val_loss: 0.0640 - val_accuracy: 0.9796\n",
            "Epoch 6/10\n",
            "204/204 [==============================] - 11s 55ms/step - loss: 0.1852 - accuracy: 0.9427 - val_loss: 0.0585 - val_accuracy: 0.9823\n",
            "Epoch 7/10\n",
            "204/204 [==============================] - 11s 55ms/step - loss: 0.1658 - accuracy: 0.9484 - val_loss: 0.0532 - val_accuracy: 0.9832\n",
            "Epoch 8/10\n",
            "204/204 [==============================] - 11s 56ms/step - loss: 0.1599 - accuracy: 0.9505 - val_loss: 0.0497 - val_accuracy: 0.9857\n",
            "Epoch 9/10\n",
            "204/204 [==============================] - 11s 55ms/step - loss: 0.1538 - accuracy: 0.9517 - val_loss: 0.0474 - val_accuracy: 0.9853\n",
            "Epoch 10/10\n",
            "204/204 [==============================] - 11s 56ms/step - loss: 0.1511 - accuracy: 0.9542 - val_loss: 0.0478 - val_accuracy: 0.9851\n"
          ],
          "name": "stdout"
        }
      ]
    },
    {
      "cell_type": "code",
      "metadata": {
        "colab": {
          "base_uri": "https://localhost:8080/",
          "height": 295
        },
        "id": "LDO03XRmnXM3",
        "outputId": "bcbfa461-e73f-493c-f45e-6ffefc8105b9"
      },
      "source": [
        "# Plot the loss and accuracy curves for training and validation \n",
        "plt.plot(cnn_history.history['val_loss'], color='r', label=\"validation loss\")\n",
        "plt.title(\"Test Loss\")\n",
        "plt.xlabel(\"Number of Epochs\")\n",
        "plt.ylabel(\"Loss\")\n",
        "plt.legend()\n",
        "plt.show()"
      ],
      "execution_count": 14,
      "outputs": [
        {
          "output_type": "display_data",
          "data": {
            "image/png": "[encoded data removed]",
            "text/plain": [
              "<Figure size 432x288 with 1 Axes>"
            ]
          },
          "metadata": {
            "tags": [],
            "needs_background": "light"
          }
        }
      ]
    },
    {
      "cell_type": "code",
      "metadata": {
        "colab": {
          "base_uri": "https://localhost:8080/",
          "height": 513
        },
        "id": "WeWSDvy8qGeU",
        "outputId": "9bb5d152-3027-4790-f05e-5c9ccfe6043d"
      },
      "source": [
        "# confusion matrix\n",
        "import seaborn as sns\n",
        "\n",
        "# Predict the values from the validation dataset\n",
        "y_pred = model.predict(x_test)\n",
        "\n",
        "# Convert predictions classes to one hot vectors \n",
        "y_pred_classes = np.argmax(y_pred,axis = 1) \n",
        "\n",
        "# Convert validation observations to one hot vectors\n",
        "y_true = np.argmax(y_test,axis = 1) \n",
        "\n",
        "# compute the confusion matrix\n",
        "confusion_mtx = confusion_matrix(y_true, y_pred_classes) \n",
        "\n",
        "# plot the confusion matrix\n",
        "f,ax = plt.subplots(figsize=(8, 8))\n",
        "sns.heatmap(confusion_mtx, annot=True, linewidths=0.01,cmap=\"Reds\",linecolor=\"gray\", fmt= '.1f',ax=ax)\n",
        "plt.xlabel(\"Predicted Label\")\n",
        "plt.ylabel(\"True Label\")\n",
        "plt.title(\"Confusion Matrix\")\n",
        "plt.show()"
      ],
      "execution_count": 16,
      "outputs": [
        {
          "output_type": "display_data",
          "data": {
            "image/png": "[encoded data removed]",
            "text/plain": [
              "<Figure size 576x576 with 2 Axes>"
            ]
          },
          "metadata": {
            "tags": [],
            "needs_background": "light"
          }
        }
      ]
    }
  ]
}