{
  "nbformat": 4,
  "nbformat_minor": 0,
  "metadata": {
    "kernelspec": {
      "display_name": "Python 3.7 (tensorflow)",
      "language": "python",
      "name": "tf"
    },
    "language_info": {
      "codemirror_mode": {
        "name": "ipython",
        "version": 3
      },
      "file_extension": ".py",
      "mimetype": "text/x-python",
      "name": "python",
      "nbconvert_exporter": "python",
      "pygments_lexer": "ipython3",
      "version": "3.7.7"
    },
    "colab": {
      "name": "Sarcasm_Model_code.ipynb",
      "provenance": []
    }
  },
  "cells": [
    {
      "cell_type": "code",
      "metadata": {
        "id": "2sabSe96bOHb"
      },
      "source": [
        "import numpy as np\n",
        "import pandas as pd\n",
        "import os\n",
        "import json\n",
        "import keras\n",
        "import tensorflow as tf\n",
        "import matplotlib.pyplot as plt\n",
        "\n",
        "from tensorflow.keras.models import Sequential\n",
        "from tensorflow.keras.layers import Dense, Embedding, LSTM\n",
        "from tensorflow.keras.preprocessing.sequence import pad_sequences\n",
        "from sklearn.model_selection import train_test_split\n",
        "from sklearn.feature_extraction.text import TfidfVectorizer\n",
        "\n"
      ],
      "execution_count": 1,
      "outputs": []
    },
    {
      "cell_type": "code",
      "metadata": {
        "id": "WGn_kx4_bOHi"
      },
      "source": [
        "def parse_data(file):\n",
        "    for l in open(file,'r'):\n",
        "        yield json.loads(l)\n",
        "        \n",
        "data = list(parse_data('Sarcasm_Headlines_Dataset_v2.json'))"
      ],
      "execution_count": 2,
      "outputs": []
    },
    {
      "cell_type": "code",
      "metadata": {
        "id": "alfj_jEWbOHj",
        "colab": {
          "base_uri": "https://localhost:8080/"
        },
        "outputId": "29187a8c-a77c-4c95-ad09-81bd5118ac23"
      },
      "source": [
        "df = pd.DataFrame(data)\n",
        "df.head()\n",
        "df.shape"
      ],
      "execution_count": 3,
      "outputs": [
        {
          "output_type": "execute_result",
          "data": {
            "text/plain": [
              "(28619, 3)"
            ]
          },
          "metadata": {
            "tags": []
          },
          "execution_count": 3
        }
      ]
    },
    {
      "cell_type": "code",
      "metadata": {
        "id": "5VUnsipxbOHj",
        "colab": {
          "base_uri": "https://localhost:8080/"
        },
        "outputId": "664c4204-78f3-4efc-b96a-6d3abba6df62"
      },
      "source": [
        "df['is_sarcastic'].value_counts()"
      ],
      "execution_count": 4,
      "outputs": [
        {
          "output_type": "execute_result",
          "data": {
            "text/plain": [
              "0    14985\n",
              "1    13634\n",
              "Name: is_sarcastic, dtype: int64"
            ]
          },
          "metadata": {
            "tags": []
          },
          "execution_count": 4
        }
      ]
    },
    {
      "cell_type": "code",
      "metadata": {
        "id": "inkHOZZxbOHk"
      },
      "source": [
        "# Specify the data and vectorize  \n",
        "\n",
        "vectorizer = TfidfVectorizer(max_features=1000, use_idf=False)\n",
        "headlines = [i['headline'] for i in data]\n",
        "\n",
        "x = vectorizer.fit_transform(headlines).toarray()\n",
        "y = df['is_sarcastic'].values\n",
        "\n",
        "# Split data into train and test sets\n",
        "\n",
        "x_train, x_test, y_train, y_test = train_test_split(x, y, test_size=0.25)\n"
      ],
      "execution_count": 5,
      "outputs": []
    },
    {
      "cell_type": "code",
      "metadata": {
        "id": "mp11O28KbOHk"
      },
      "source": [
        "# Initialize the constructor\n",
        "model = Sequential() # Initialize constructor\n",
        "model.add(Dense(32, activation='relu', input_shape=(1000,))) #input layer\n",
        "model.add(Dense(4, activation='relu')) #hidden layer\n",
        "model.add(Dense(1, activation='sigmoid')) #outer layer"
      ],
      "execution_count": 6,
      "outputs": []
    },
    {
      "cell_type": "code",
      "metadata": {
        "colab": {
          "base_uri": "https://localhost:8080/"
        },
        "id": "OinSYB6jbOHk",
        "outputId": "0d46b761-9572-4a74-9b21-59c4e57edec4"
      },
      "source": [
        "\n",
        "# Compile the model using adam optimizer and binary_crossentropy loss function\n",
        "model.compile(loss='binary_crossentropy',\n",
        "              optimizer='adam',\n",
        "              metrics=['accuracy'])\n",
        "# Model Summary\n",
        "model.summary()"
      ],
      "execution_count": 7,
      "outputs": [
        {
          "output_type": "stream",
          "text": [
            "Model: \"sequential\"\n",
            "_________________________________________________________________\n",
            "Layer (type)                 Output Shape              Param #   \n",
            "=================================================================\n",
            "dense (Dense)                (None, 32)                32032     \n",
            "_________________________________________________________________\n",
            "dense_1 (Dense)              (None, 4)                 132       \n",
            "_________________________________________________________________\n",
            "dense_2 (Dense)              (None, 1)                 5         \n",
            "=================================================================\n",
            "Total params: 32,169\n",
            "Trainable params: 32,169\n",
            "Non-trainable params: 0\n",
            "_________________________________________________________________\n"
          ],
          "name": "stdout"
        }
      ]
    },
    {
      "cell_type": "code",
      "metadata": {
        "colab": {
          "base_uri": "https://localhost:8080/"
        },
        "id": "VmhLlR5QbOHl",
        "outputId": "b9110768-8b23-40f8-b3aa-120e2ca6b3e8"
      },
      "source": [
        "training = model.fit(x_train, y_train,epochs=55, batch_size=300, verbose=1)"
      ],
      "execution_count": 8,
      "outputs": [
        {
          "output_type": "stream",
          "text": [
            "Epoch 1/55\n",
            "72/72 [==============================] - 1s 3ms/step - loss: 0.6775 - accuracy: 0.6509\n",
            "Epoch 2/55\n",
            "72/72 [==============================] - 0s 3ms/step - loss: 0.5434 - accuracy: 0.7949\n",
            "Epoch 3/55\n",
            "72/72 [==============================] - 0s 3ms/step - loss: 0.4281 - accuracy: 0.8131\n",
            "Epoch 4/55\n",
            "72/72 [==============================] - 0s 3ms/step - loss: 0.3987 - accuracy: 0.8199\n",
            "Epoch 5/55\n",
            "72/72 [==============================] - 0s 4ms/step - loss: 0.3888 - accuracy: 0.8250\n",
            "Epoch 6/55\n",
            "72/72 [==============================] - 0s 3ms/step - loss: 0.3825 - accuracy: 0.8247\n",
            "Epoch 7/55\n",
            "72/72 [==============================] - 0s 3ms/step - loss: 0.3761 - accuracy: 0.8282\n",
            "Epoch 8/55\n",
            "72/72 [==============================] - 0s 3ms/step - loss: 0.3699 - accuracy: 0.8292\n",
            "Epoch 9/55\n",
            "72/72 [==============================] - 0s 3ms/step - loss: 0.3752 - accuracy: 0.8286\n",
            "Epoch 10/55\n",
            "72/72 [==============================] - 0s 3ms/step - loss: 0.3720 - accuracy: 0.8295\n",
            "Epoch 11/55\n",
            "72/72 [==============================] - 0s 3ms/step - loss: 0.3635 - accuracy: 0.8366\n",
            "Epoch 12/55\n",
            "72/72 [==============================] - 0s 3ms/step - loss: 0.3593 - accuracy: 0.8374\n",
            "Epoch 13/55\n",
            "72/72 [==============================] - 0s 4ms/step - loss: 0.3614 - accuracy: 0.8331\n",
            "Epoch 14/55\n",
            "72/72 [==============================] - 0s 4ms/step - loss: 0.3555 - accuracy: 0.8379\n",
            "Epoch 15/55\n",
            "72/72 [==============================] - 0s 3ms/step - loss: 0.3519 - accuracy: 0.8390\n",
            "Epoch 16/55\n",
            "72/72 [==============================] - 0s 3ms/step - loss: 0.3549 - accuracy: 0.8392\n",
            "Epoch 17/55\n",
            "72/72 [==============================] - 0s 4ms/step - loss: 0.3448 - accuracy: 0.8406\n",
            "Epoch 18/55\n",
            "72/72 [==============================] - 0s 3ms/step - loss: 0.3431 - accuracy: 0.8456\n",
            "Epoch 19/55\n",
            "72/72 [==============================] - 0s 3ms/step - loss: 0.3353 - accuracy: 0.8485\n",
            "Epoch 20/55\n",
            "72/72 [==============================] - 0s 3ms/step - loss: 0.3290 - accuracy: 0.8537\n",
            "Epoch 21/55\n",
            "72/72 [==============================] - 0s 4ms/step - loss: 0.3339 - accuracy: 0.8521\n",
            "Epoch 22/55\n",
            "72/72 [==============================] - 0s 3ms/step - loss: 0.3260 - accuracy: 0.8519\n",
            "Epoch 23/55\n",
            "72/72 [==============================] - 0s 3ms/step - loss: 0.3212 - accuracy: 0.8554\n",
            "Epoch 24/55\n",
            "72/72 [==============================] - 0s 3ms/step - loss: 0.3124 - accuracy: 0.8599\n",
            "Epoch 25/55\n",
            "72/72 [==============================] - 0s 4ms/step - loss: 0.3015 - accuracy: 0.8691\n",
            "Epoch 26/55\n",
            "72/72 [==============================] - 0s 3ms/step - loss: 0.3030 - accuracy: 0.8668\n",
            "Epoch 27/55\n",
            "72/72 [==============================] - 0s 3ms/step - loss: 0.2975 - accuracy: 0.8675\n",
            "Epoch 28/55\n",
            "72/72 [==============================] - 0s 4ms/step - loss: 0.2948 - accuracy: 0.8715\n",
            "Epoch 29/55\n",
            "72/72 [==============================] - 0s 4ms/step - loss: 0.2875 - accuracy: 0.8762\n",
            "Epoch 30/55\n",
            "72/72 [==============================] - 0s 3ms/step - loss: 0.2871 - accuracy: 0.8746\n",
            "Epoch 31/55\n",
            "72/72 [==============================] - 0s 3ms/step - loss: 0.2720 - accuracy: 0.8879\n",
            "Epoch 32/55\n",
            "72/72 [==============================] - 0s 3ms/step - loss: 0.2686 - accuracy: 0.8880\n",
            "Epoch 33/55\n",
            "72/72 [==============================] - 0s 3ms/step - loss: 0.2647 - accuracy: 0.8879\n",
            "Epoch 34/55\n",
            "72/72 [==============================] - 0s 3ms/step - loss: 0.2568 - accuracy: 0.8950\n",
            "Epoch 35/55\n",
            "72/72 [==============================] - 0s 3ms/step - loss: 0.2479 - accuracy: 0.8980\n",
            "Epoch 36/55\n",
            "72/72 [==============================] - 0s 3ms/step - loss: 0.2426 - accuracy: 0.9022\n",
            "Epoch 37/55\n",
            "72/72 [==============================] - 0s 3ms/step - loss: 0.2408 - accuracy: 0.9014\n",
            "Epoch 38/55\n",
            "72/72 [==============================] - 0s 4ms/step - loss: 0.2327 - accuracy: 0.9088\n",
            "Epoch 39/55\n",
            "72/72 [==============================] - 0s 3ms/step - loss: 0.2285 - accuracy: 0.9069\n",
            "Epoch 40/55\n",
            "72/72 [==============================] - 0s 4ms/step - loss: 0.2213 - accuracy: 0.9107\n",
            "Epoch 41/55\n",
            "72/72 [==============================] - 0s 4ms/step - loss: 0.2200 - accuracy: 0.9144\n",
            "Epoch 42/55\n",
            "72/72 [==============================] - 0s 4ms/step - loss: 0.2121 - accuracy: 0.9175\n",
            "Epoch 43/55\n",
            "72/72 [==============================] - 0s 3ms/step - loss: 0.2049 - accuracy: 0.9237\n",
            "Epoch 44/55\n",
            "72/72 [==============================] - 0s 4ms/step - loss: 0.1993 - accuracy: 0.9263\n",
            "Epoch 45/55\n",
            "72/72 [==============================] - 0s 3ms/step - loss: 0.1961 - accuracy: 0.9279\n",
            "Epoch 46/55\n",
            "72/72 [==============================] - 0s 4ms/step - loss: 0.1927 - accuracy: 0.9284\n",
            "Epoch 47/55\n",
            "72/72 [==============================] - 0s 3ms/step - loss: 0.1849 - accuracy: 0.9317\n",
            "Epoch 48/55\n",
            "72/72 [==============================] - 0s 4ms/step - loss: 0.1789 - accuracy: 0.9331\n",
            "Epoch 49/55\n",
            "72/72 [==============================] - 0s 4ms/step - loss: 0.1757 - accuracy: 0.9368\n",
            "Epoch 50/55\n",
            "72/72 [==============================] - 0s 3ms/step - loss: 0.1719 - accuracy: 0.9393\n",
            "Epoch 51/55\n",
            "72/72 [==============================] - 0s 4ms/step - loss: 0.1650 - accuracy: 0.9407\n",
            "Epoch 52/55\n",
            "72/72 [==============================] - 0s 4ms/step - loss: 0.1592 - accuracy: 0.9426\n",
            "Epoch 53/55\n",
            "72/72 [==============================] - 0s 4ms/step - loss: 0.1535 - accuracy: 0.9451\n",
            "Epoch 54/55\n",
            "72/72 [==============================] - 0s 3ms/step - loss: 0.1488 - accuracy: 0.9488\n",
            "Epoch 55/55\n",
            "72/72 [==============================] - 0s 3ms/step - loss: 0.1426 - accuracy: 0.9516\n"
          ],
          "name": "stdout"
        }
      ]
    },
    {
      "cell_type": "code",
      "metadata": {
        "colab": {
          "base_uri": "https://localhost:8080/",
          "height": 541
        },
        "id": "RSN_VcgHbOHl",
        "outputId": "29e77ede-fd80-4526-e5c5-e86cb590e6fc"
      },
      "source": [
        "plt.plot(training.history[\"accuracy\"],'g')\n",
        "plt.xlabel(\"Epochs\")\n",
        "plt.ylabel(\"accuracy\")\n",
        "plt.legend([\"accuracy\"])\n",
        "plt.grid()\n",
        "plt.show()\n",
        "\n",
        "plt.plot(training.history[\"loss\"], 'r')\n",
        "plt.xlabel(\"Epochs\")\n",
        "plt.ylabel(\"loss\")\n",
        "plt.legend([\"loss\"])\n",
        "plt.grid()\n",
        "plt.show()"
      ],
      "execution_count": 9,
      "outputs": [
        {
          "output_type": "display_data",
          "data": {
            "image/png": "[encoded data removed]",
            "text/plain": [
              "<Figure size 432x288 with 1 Axes>"
            ]
          },
          "metadata": {
            "tags": [],
            "needs_background": "light"
          }
        },
        {
          "output_type": "display_data",
          "data": {
            "image/png": "[encoded data removed]",
            "text/plain": [
              "<Figure size 432x288 with 1 Axes>"
            ]
          },
          "metadata": {
            "tags": [],
            "needs_background": "light"
          }
        }
      ]
    },
    {
      "cell_type": "code",
      "metadata": {
        "id": "SjRnPjGaf9Gs"
      },
      "source": [
        ""
      ],
      "execution_count": 9,
      "outputs": []
    }
  ]
}